{
 "cells": [
  {
   "cell_type": "markdown",
   "metadata": {},
   "source": []
  },
  {
   "cell_type": "code",
   "execution_count": 141,
   "metadata": {},
   "outputs": [
    {
     "name": "stdout",
     "output_type": "stream",
     "text": [
      "sample size:  42\n"
     ]
    }
   ],
   "source": [
    "# author: Lida Zacharopoulou\n",
    "\n",
    "import numpy as np\n",
    "import scipy.stats as stats\n",
    "import matplotlib.pyplot as plt\n",
    "import pandas as pd\n",
    "import math\n",
    "from __future__ import division\n",
    "import statsmodels.api as sm\n",
    "from statsmodels.formula.api import ols\n",
    "import seaborn as sns\n",
    "%matplotlib inline\n",
    "\n",
    "data = pd.read_csv('data.csv')\n",
    "n = len(data)\n",
    "print \"sample size: \", n\n"
   ]
  },
  {
   "cell_type": "code",
   "execution_count": 142,
   "metadata": {},
   "outputs": [
    {
     "name": "stdout",
     "output_type": "stream",
     "text": [
      "cleaned sample size:  40\n"
     ]
    }
   ],
   "source": [
    "# Clean data (remove particpants who did the test in under 5mins)\n",
    "\n",
    "minimum = 5 * 60 * 1000; # minumum duration of a test set to  5mins\n",
    "start = data['data/timestamp/start']\n",
    "end = data['data/timestamp/end']\n",
    "\n",
    "data = data.loc[end-start > minimum]\n",
    "\n",
    "n = len(data)\n",
    "print \"cleaned sample size: \", n"
   ]
  },
  {
   "cell_type": "markdown",
   "metadata": {},
   "source": [
    "H0: μ1 = 0 \"The estimate of the mean (μ1) equals zero(μ), meaning that people are accurate when making personal predictions\"\n",
    "\n",
    "HΑ: μ1 != 0 \"Τhe estimate of the mean is different than zero (μ), meaning that people are not accurate\""
   ]
  },
  {
   "cell_type": "code",
   "execution_count": 143,
   "metadata": {},
   "outputs": [
    {
     "name": "stdout",
     "output_type": "stream",
     "text": [
      "Mean: 1.13\n",
      "Median: 2.0\n"
     ]
    },
    {
     "data": {
      "image/png": "[encoded data removed]",
      "text/plain": [
       "<Figure size 432x288 with 1 Axes>"
      ]
     },
     "metadata": {
      "needs_background": "light"
     },
     "output_type": "display_data"
    }
   ],
   "source": [
    "mu = 0; # population mean μ is zero (people are accurate)\n",
    "\n",
    "optimism = data['data/survey/responses/1/0']\n",
    "\n",
    "mean = round(np.mean(optimism),2)\n",
    "median = round(np.median(optimism),2)\n",
    "\n",
    "print \"Mean:\", mean\n",
    "print \"Median:\", median\n",
    "\n",
    "# Plot histogram\n",
    "\n",
    "plt.hist(optimism, 8, range=[-4,4], color=\"lightgreen\", alpha=0.9)\n",
    "# sns.distplot(data['data/survey/responses/1/0'])\n",
    "# plt.plot(optimism, stats.t(n).cdf(optimism), lw=3, label='t pdf')\n",
    "plt.xlabel(\"Optimism Score\")\n",
    "plt.ylabel(\"Count\")\n",
    "plt.title(\"Distribution of optimism scores within our sample\")\n",
    "plt.xticks([-4,-2,-1,0,1,2,4],[\"extremely pessimistic(-4)\",\"-2\",\"-1\",\"accurate(0)\",\"+1\",\"+2\",\"extremely optimistic(+4)\"])\n",
    "plt.savefig('fig1.png', format='png', dpi=1000)\n",
    "plt.show()\n"
   ]
  },
  {
   "cell_type": "code",
   "execution_count": 144,
   "metadata": {
    "scrolled": true
   },
   "outputs": [
    {
     "name": "stdout",
     "output_type": "stream",
     "text": [
      "SHAPIRO pvalue:  0.0152\n",
      "\n",
      "The distribution of the sample is significantly different from a normal distribution.\n"
     ]
    }
   ],
   "source": [
    "# Check for normality \n",
    "\n",
    "shapiro = stats.shapiro(data['data/survey/responses/1/0'])\n",
    "pvalue = round(shapiro[1],4)\n",
    "print \"SHAPIRO pvalue: \", pvalue \n",
    "\n",
    "if pvalue > 0.05:\n",
    "    print \"\\nThe distribution of the sample is not significantly different from a normal distribution.\"\n",
    "else:\n",
    "    print \"\\nThe distribution of the sample is significantly different from a normal distribution.\""
   ]
  },
  {
   "cell_type": "markdown",
   "metadata": {},
   "source": []
  },
  {
   "cell_type": "code",
   "execution_count": 145,
   "metadata": {},
   "outputs": [
    {
     "name": "stdout",
     "output_type": "stream",
     "text": [
      "P value:\n",
      "0.000996\n"
     ]
    }
   ],
   "source": [
    "# Data is not normal so we use non-parametric tests\n",
    "\n",
    "# One sample Wilcoxon against the known mean mu (non-parametric equivalent to one-sample t-test)\n",
    "rank, pvalue = stats.wilcoxon(optimism-mu)\n",
    "\n",
    "print ('P value:')\n",
    "print round(pvalue,6)\n"
   ]
  },
  {
   "cell_type": "code",
   "execution_count": 146,
   "metadata": {},
   "outputs": [
    {
     "name": "stdout",
     "output_type": "stream",
     "text": [
      "Age threshold: 30 \n",
      "\n",
      "Size of younger sample: 26\n",
      "Mean score younger sample 1.19\n",
      "Median score younger sample: 2.0\n",
      "Wilcoxon 1 sample against the μ=0: pvalue 0.00327\n",
      "--------------------------------------------------\n",
      "Size of older sample: 14\n",
      "Mean score older sample 1.0\n",
      "Median score older sample: 1.5\n",
      "Wilcoxon 1 sample against the μ=0: pvalue 0.11995\n",
      "--------------------------------------------------\n",
      "mannwhit-statistic:  174.0\n",
      "p-value:  0.41363\n",
      "Younger sample prescibed optimism score was \n",
      "not signifficantly different than the older sample\n"
     ]
    },
    {
     "data": {
      "image/png": "[encoded data removed]",
      "text/plain": [
       "<Figure size 432x288 with 1 Axes>"
      ]
     },
     "metadata": {
      "needs_background": "light"
     },
     "output_type": "display_data"
    },
    {
     "data": {
      "image/png": "[encoded data removed]",
      "text/plain": [
       "<Figure size 432x288 with 1 Axes>"
      ]
     },
     "metadata": {
      "needs_background": "light"
     },
     "output_type": "display_data"
    }
   ],
   "source": [
    "# Optimism by AGE\n",
    "# Examine relationship between 2 age groups\n",
    "\n",
    "threshold = 30\n",
    "print \"Age threshold:\", threshold, \"\\n\"\n",
    "\n",
    "age = data['data/demographics/age']\n",
    "\n",
    "young_sample = data.loc[age  < threshold]['data/survey/responses/1/0']\n",
    "older_sample = data.loc[age  >= threshold]['data/survey/responses/1/0']\n",
    "\n",
    "# n, mean, and 1-sample wilcoxon of younger group\n",
    "print \"Size of younger sample:\", len(young_sample)\n",
    "mean_young = np.mean(young_sample,0);\n",
    "median_young = np.median(young_sample,0);\n",
    "print \"Mean score younger sample\", round(mean_young,2)\n",
    "print \"Median score younger sample:\", round(median_young,2)\n",
    "wilcoxon1_young = stats.wilcoxon(young_sample-mu)\n",
    "print \"Wilcoxon 1 sample against the μ=0: pvalue\", round(wilcoxon1_young.pvalue, 5)\n",
    "print(\"-\" *50)\n",
    "\n",
    "# n, mean, and 1-sample wilcoxon of older group\n",
    "print \"Size of older sample:\", len(older_sample)\n",
    "mean_older = np.mean(older_sample,0);\n",
    "median_older = np.median(older_sample,0);\n",
    "print \"Mean score older sample\", round(mean_older,2)\n",
    "print \"Median score older sample:\", round(median_older,2)\n",
    "wilcoxon1_older = stats.wilcoxon(older_sample-mu)\n",
    "print \"Wilcoxon 1 sample against the μ=0: pvalue\", round(wilcoxon1_older.pvalue, 5)\n",
    "print(\"-\" *50)\n",
    "\n",
    "# Mann Whitney test, the non-parametric equivalent to the independent t-test \n",
    "mannwhit = stats.mannwhitneyu(young_sample,older_sample)\n",
    "print \"mannwhit-statistic: \", round(mannwhit.statistic, 5)\n",
    "print \"p-value: \", round(mannwhit.pvalue, 5)\n",
    "\n",
    "\n",
    "if mannwhit.pvalue < 0.01:\n",
    "    print \"Younger sample prescibed optimism score was \\ndifferent than the older sample with high significance\"\n",
    "elif mannwhit.pvalue < 0.05:\n",
    "     print \"Younger sample prescibed optimism score was \\nsignifficantly different than the older sample\"\n",
    "elif mannwhit.pvalue >= 0.05:\n",
    "    print \"Younger sample prescibed optimism score was \\nnot signifficantly different than the older sample\"\n",
    "    \n",
    "# Plot histogram \n",
    "\n",
    "plt.hist([young_sample,older_sample],10,range=[-4,4],color=[\"blue\",\"orange\"], alpha=0.7)\n",
    "plt.title(\"Younger VS Older sample optimism score distribution\")\n",
    "plt.xlabel(\"Optimism Score\")\n",
    "plt.ylabel(\"Count\")\n",
    "plt.legend([\"Young\",\"Older\"])\n",
    "plt.savefig('fig2.png', format='png', dpi=1000)\n",
    "plt.show()\n",
    "\n",
    "# Plot boxplots\n",
    "\n",
    "IQR_young = np.percentile(young_sample,75)-np.percentile(young_sample,25)\n",
    "IQR_older = np.percentile(older_sample,75)-np.percentile(older_sample,25)\n",
    "\n",
    "plt.bar([1,2],[median_young, median_older],color=[\"blue\",\"orange\"], alpha=0.7,\n",
    "        yerr=[IQR_young,IQR_older],align='center')\n",
    "plt.title('Optimism score by age group')\n",
    "plt.xticks([1,2],[\"Young\",\"Older\"])\n",
    "plt.ylabel(\"Median score +/- IQR\")\n",
    "plt.savefig('fig3.png', format='png', dpi=1000)\n",
    "plt.show()\n"
   ]
  },
  {
   "cell_type": "code",
   "execution_count": 147,
   "metadata": {},
   "outputs": [
    {
     "data": {
      "image/png": "[encoded data removed]",
      "text/plain": [
       "<Figure size 432x288 with 1 Axes>"
      ]
     },
     "metadata": {
      "needs_background": "light"
     },
     "output_type": "display_data"
    },
    {
     "name": "stdout",
     "output_type": "stream",
     "text": [
      "Spearnman Correlation Coefficient:  -0.16924 with p-value:  0.29648\n",
      "There is a non-significant, weak negative linear relationship between age and optimism score.\n"
     ]
    }
   ],
   "source": [
    "# Age Optimism Correlation\n",
    "\n",
    "# Least squares\n",
    "A = np.vstack([age,np.ones(n)]).T\n",
    "m,c = np.linalg.lstsq(A,optimism,rcond=None)[0]\n",
    "\n",
    "colors = np.random.rand(n)\n",
    "plt.scatter(age, optimism,s=40, c=colors, alpha=0.5)\n",
    "plt.plot(age,age*m+c, color=\"purple\", alpha=0.5)\n",
    "plt.title('Relationship between age and optimism')\n",
    "plt.xlabel('Age (years)')\n",
    "plt.ylabel('Optimism score (0 = accurate)')\n",
    "plt.savefig('fig4.png', format='png', dpi=1000)\n",
    "plt.show()\n",
    "\n",
    "# We use the spearman correlation instead of the pearson one, since the data is not normal\n",
    "inference = stats.spearmanr(age,optimism )\n",
    "print \"Spearnman Correlation Coefficient: \", round(inference[0], 5), \"with p-value: \", round(inference[1], 5)\n",
    "\n",
    "print \"There is a non-significant, weak negative linear relationship between age and optimism score.\"\n"
   ]
  },
  {
   "cell_type": "code",
   "execution_count": 148,
   "metadata": {},
   "outputs": [
    {
     "name": "stdout",
     "output_type": "stream",
     "text": [
      "Size of male sample: 19\n",
      "Mean score of male sample 1.05\n",
      "Median score male sample: 2.0\n",
      "Wilcoxon 1 sample against the μ=0: pvalue 0.0579\n",
      "--------------------------------------------------\n",
      "Size of female sample: 18\n",
      "Mean score female sample 1.5\n",
      "Median score female sample: 2.0\n",
      "Wilcoxon 1 sample against the μ=0: pvalue 0.00286\n",
      "--------------------------------------------------\n",
      "Size of other sample: 3\n",
      "Mean score other gender sample -0.67\n",
      "Median score other sample: -1.0\n",
      "Wilcoxon 1 sample against the μ=0: pvalue 0.1573\n",
      "--------------------------------------------------\n",
      "Mann Whitney between male and female\n",
      "mannwhit-statistic:  162.5\n",
      "p-value:  0.40094\n"
     ]
    },
    {
     "name": "stderr",
     "output_type": "stream",
     "text": [
      "C:\\Python27\\lib\\site-packages\\scipy\\stats\\morestats.py:2388: UserWarning: Warning: sample size too small for normal approximation.\n",
      "  warnings.warn(\"Warning: sample size too small for normal approximation.\")\n"
     ]
    },
    {
     "data": {
      "image/png": "[encoded data removed]",
      "text/plain": [
       "<Figure size 432x288 with 1 Axes>"
      ]
     },
     "metadata": {
      "needs_background": "light"
     },
     "output_type": "display_data"
    },
    {
     "data": {
      "image/png": "[encoded data removed]",
      "text/plain": [
       "<Figure size 432x288 with 1 Axes>"
      ]
     },
     "metadata": {
      "needs_background": "light"
     },
     "output_type": "display_data"
    },
    {
     "name": "stdout",
     "output_type": "stream",
     "text": [
      "We notice that the mean and median of the participants identifying as 'other' gender are both negative, completely unrelated to the scores of the male and female groups.Even the IQR has no common values with thethe male and female participants ranges. Although the sample size is very small(n=3) so we cannot draw any conclusions,we think it is an important finding and worth further exploring it in a study with larger sample sizes.\n"
     ]
    }
   ],
   "source": [
    "# Optimism by GENDER\n",
    "\n",
    "gender = data['data/demographics/gender']\n",
    "male = data.loc[gender == 'male']['data/survey/responses/1/0']\n",
    "female = data.loc[gender == 'female']['data/survey/responses/1/0']\n",
    "other = data.loc[gender == 'other']['data/survey/responses/1/0']\n",
    "\n",
    "mean_male = round(np.mean(male),3);\n",
    "mean_female = round(np.mean(female),3);\n",
    "mean_other = round(np.mean(other),3);\n",
    "median_male = round(np.median(male),3);\n",
    "median_female = round(np.median(female),3);\n",
    "median_other = round(np.median(other),3);\n",
    "\n",
    "# n, mean, and 1-sample wilcoxon of male group\n",
    "print \"Size of male sample:\", len(male)\n",
    "print \"Mean score of male sample\", round(mean_male,2)\n",
    "print \"Median score male sample:\", round(median_male,2)\n",
    "wilcoxon1_male = stats.wilcoxon(male-mu)\n",
    "print \"Wilcoxon 1 sample against the μ=0: pvalue\", round(wilcoxon1_male.pvalue, 5)\n",
    "print(\"-\" *50)\n",
    "\n",
    "# n, mean, and 1-sample wilcoxon of female group\n",
    "print \"Size of female sample:\", len(female)\n",
    "mean_female = np.mean(female,0);\n",
    "median_female = np.median(female,0);\n",
    "print \"Mean score female sample\", round(mean_female,2)\n",
    "print \"Median score female sample:\", round(median_female,2)\n",
    "wilcoxon1_female = stats.wilcoxon(female-mu)\n",
    "print \"Wilcoxon 1 sample against the μ=0: pvalue\", round(wilcoxon1_female.pvalue, 5)\n",
    "print(\"-\" *50)\n",
    "\n",
    "# n, mean, and 1-sample wilcoxon of other gender group\n",
    "print \"Size of other sample:\", len(other)\n",
    "mean_other = np.mean(other,0);\n",
    "median_other = np.median(other,0);\n",
    "print \"Mean score other gender sample\", round(mean_other,2)\n",
    "print \"Median score other sample:\", round(median_other,2)\n",
    "wilcoxon1_other = stats.wilcoxon(other-mu)\n",
    "print \"Wilcoxon 1 sample against the μ=0: pvalue\", round(wilcoxon1_other.pvalue, 5)\n",
    "print(\"-\" *50)\n",
    "\n",
    "# Mann Whitney test between male and females, the non-parametric equivalent to the independent t-test \n",
    "mannwhit = stats.mannwhitneyu(male,female)\n",
    "print \"Mann Whitney between male and female\"\n",
    "print \"mannwhit-statistic: \", round(mannwhit.statistic, 5)\n",
    "print \"p-value: \", round(mannwhit.pvalue, 5)\n",
    "\n",
    "    \n",
    "# Plot histogram\n",
    "plt.hist([male,female,other],10,range=[-4,4], color=[\"lightblue\", \"pink\", \"purple\"], alpha=0.7)\n",
    "plt.title(\"Optimism score distribution by gender\")\n",
    "plt.xlabel(\"Optimism Score\")\n",
    "plt.ylabel(\"Count\")\n",
    "plt.legend([\"Male\",\"Female\", \"Other\"])\n",
    "plt.savefig('fig5.png', format='png', dpi=1000)\n",
    "plt.show()\n",
    "\n",
    "# Plot boxplots\n",
    "IQR_male = np.percentile(male,75)-np.percentile(male,25)\n",
    "IQR_female = np.percentile(female,75)-np.percentile(female,25)\n",
    "IQR_other = np.percentile(other,75)-np.percentile(other,25)\n",
    "\n",
    "plt.bar([1,2,3],[median_male, median_female, median_other], color=(\"lightblue\",\"pink\",\"purple\"),alpha = 0.7,\n",
    "        yerr=[IQR_male,IQR_female,IQR_other],align='center')\n",
    "plt.title('Optimism score by gender')\n",
    "plt.xticks([1,2,3],[\"Male\",\"Female\",\"Other\"])\n",
    "plt.ylabel(\"Median +/- IQR\")\n",
    "plt.savefig('fig6.png', format='png', dpi=1000)\n",
    "plt.show()\n",
    "\n",
    "print \"We notice that the mean and median of the participants identifying as 'other' gender are both negative, \\\n",
    "completely unrelated to the scores of the male and female groups.Even the IQR has no common values with the\\\n",
    "the male and female participants ranges. Although the sample size is very small(n=3) so we cannot draw any conclusions,\\\n",
    "we think it is an important finding and worth further exploring it in a study with larger sample sizes.\"\n",
    "\n",
    "\n",
    "\n"
   ]
  },
  {
   "cell_type": "markdown",
   "metadata": {},
   "source": [
    "Now we will explore the sample of people who scored low in the LOT (Life Orientation Test),that is people with a general pessimistic tendancy, as did in the replication study. We will as well compare this group with the sample of people who scored high in the LOT test."
   ]
  },
  {
   "cell_type": "code",
   "execution_count": 149,
   "metadata": {},
   "outputs": [
    {
     "name": "stdout",
     "output_type": "stream",
     "text": [
      "Pessimists:\n",
      "\n",
      "size:  10\n",
      "mean: 1.4\n",
      "median: 1.5\n",
      "1 sample wilcoxon against μ=0: p-value:  0.02365\n",
      "--------------------------------------------------\n",
      "Optimists:\n",
      "\n",
      "size: 20\n",
      "mean: 1.45\n",
      "median: 2.0\n",
      "1 sample wilcoxon against μ=0: p-value:  0.01001\n",
      "--------------------------------------------------\n",
      "Pessimists VS Optimists:\n",
      "\n",
      "Mann Whitney: p-value:  0.32421\n",
      "Kruskal: p-value: 0.63212\n"
     ]
    },
    {
     "name": "stderr",
     "output_type": "stream",
     "text": [
      "C:\\Python27\\lib\\site-packages\\scipy\\stats\\morestats.py:2388: UserWarning: Warning: sample size too small for normal approximation.\n",
      "  warnings.warn(\"Warning: sample size too small for normal approximation.\")\n"
     ]
    },
    {
     "data": {
      "image/png": "[encoded data removed]",
      "text/plain": [
       "<Figure size 432x288 with 1 Axes>"
      ]
     },
     "metadata": {
      "needs_background": "light"
     },
     "output_type": "display_data"
    },
    {
     "name": "stdout",
     "output_type": "stream",
     "text": [
      "\n",
      "Conclusions:\n",
      "The optimism score of the pessimists is significanlty different than the population mean.\n",
      "(p-value: 0.02365 <0.05)\n",
      "This agrees with the findings of the replication study, which found out that even pessimists prescribe optimism.\n",
      "\n",
      "The optimism score of the optimiststs is also significanlty different than the population mean.\n",
      "(p-value: 0.01001 <0.05)\n",
      "\n",
      "Comparing the mean score of the pessimists and the optimists, we see that there is no significant difference between the optimism score of the two groups.\n"
     ]
    }
   ],
   "source": [
    "# Sample of people who scored low in the LOT ( pessimistic tendancy)\n",
    "\n",
    "lot_sample1 = data.loc[:, 'data/lifeOrientationTest/0':'data/lifeOrientationTest/9']\n",
    "lot_sample = data.loc[:, ['data/lifeOrientationTest/0','data/lifeOrientationTest/1','data/lifeOrientationTest/2','data/lifeOrientationTest/3','data/lifeOrientationTest/4','data/lifeOrientationTest/5','data/lifeOrientationTest/6','data/lifeOrientationTest/7','data/lifeOrientationTest/8','data/lifeOrientationTest/9','data/survey/responses/1/0']]\n",
    "\n",
    "# New column with mean LOT score\n",
    "lot_sample['meanLOT'] = lot_sample1.sum(axis=1)/10\n",
    "\n",
    "# Create optimism and pessimism masks and get the two samples\n",
    "pessimism = lot_sample['meanLOT'] < 3  # 3 is the neutral answer in the LOT scale\n",
    "optimism = lot_sample['meanLOT'] > 3\n",
    "pessimists = lot_sample.loc[pessimism]['data/survey/responses/1/0']\n",
    "optimists = lot_sample.loc[optimism]['data/survey/responses/1/0']\n",
    "\n",
    "# n, mean,median and 1-sample wilcoxon of pessimists group\n",
    "print \"Pessimists:\\n\"\n",
    "print \"size: \", len(pessimists)\n",
    "mean_pessimist = round(np.mean(pessimists),2)\n",
    "median_pessimist = round(np.median(pessimists),2)\n",
    "print \"mean:\", mean_pessimist\n",
    "print \"median:\", median_pessimist\n",
    "wilcoxonP = stats.wilcoxon(pessimists-mu)\n",
    "print \"1 sample wilcoxon against μ=0: p-value: \", round(wilcoxonP.pvalue, 5)\n",
    "# wilcoxonPSample = stats.wilcoxon(pessimists-mean)\n",
    "# print \"1 sample wilcoxon against mean=1.13: p-value: \", round(wilcoxonPSample.pvalue, 5)\n",
    "print(\"-\" *50)\n",
    "\n",
    "# n, mean, median and 1-sample wilcoxon of optimists group\n",
    "print \"Optimists:\\n\"\n",
    "print \"size:\", len(optimists)\n",
    "mean_optimist = round(np.mean(optimists),2);\n",
    "median_optimist = round(np.median(optimists,0),2);\n",
    "print \"mean:\", mean_optimist\n",
    "print \"median:\", median_optimist\n",
    "wilcoxonOpt = stats.wilcoxon(optimists-mu)\n",
    "print \"1 sample wilcoxon against μ=0: p-value: \", round(wilcoxonOpt.pvalue, 5)\n",
    "# wilcoxonOptSample = stats.wilcoxon(optimists-mean)\n",
    "# print \"1 sample wilcoxon against mean=1.13: p-value: \", round(wilcoxonOptSample.pvalue, 5)\n",
    "print(\"-\" *50)\n",
    "\n",
    "# Mann Whitney test between optimists and pessimists, a non-parametric equivalent to the independent t-test \n",
    "mannwhit = stats.mannwhitneyu(pessimists,optimists)\n",
    "print \"Pessimists VS Optimists:\\n\"\n",
    "print \"Mann Whitney: p-value: \", round(mannwhit.pvalue, 5)\n",
    "\n",
    "# Kruskal is another non-parametric equivalent to the independent t-test \n",
    "kruskal = stats.kruskal(pessimists, optimists);\n",
    "print \"Kruskal: p-value:\", round (kruskal.pvalue,5);\n",
    "\n",
    "# Plot boxplots (pessimists vs optimists vs all)\n",
    "IQR_pessimists = np.percentile(pessimists,75)-np.percentile(pessimists,25)\n",
    "IQR_optimists = np.percentile(optimists,75)-np.percentile(optimists,25)\n",
    "IQR_all = np.percentile(optimism,75)-np.percentile(optimism,25)\n",
    "\n",
    "plt.bar([1,2,3],[median_pessimist, median_optimist, median],color=[\"grey\", \"orange\", \"green\"], alpha=0.5,\n",
    "        yerr=[IQR_pessimists,IQR_optimists,IQR_all],align='center')\n",
    "plt.title('Optimism score by LOT score')\n",
    "plt.xticks([1,2,3],[\"Pessimists\",\"Optimists\",\"All\"])\n",
    "plt.ylabel(\"Median +/- IQR\")\n",
    "plt.savefig('fig7.png', format='png', dpi=1000)\n",
    "plt.show()\n",
    "\n",
    "# Conclusions\n",
    "print \"\\nConclusions:\"\n",
    "print \"The optimism score of the pessimists is significanlty different than the population mean.\"\n",
    "print \"(p-value:\", round(wilcoxonP.pvalue, 5), \"<0.05)\"\n",
    "print \"This agrees with the findings of the replication study, which found out that even pessimists prescribe optimism.\\n\"\n",
    "\n",
    "print \"The optimism score of the optimiststs is also significanlty different than the population mean.\"\n",
    "print \"(p-value:\", round(wilcoxonOpt.pvalue, 5), \"<0.05)\\n\"\n",
    "\n",
    "print \"Comparing the mean score of the pessimists and the optimists, we see that there is no significant difference between the optimism score of the two groups.\"\n",
    "\n",
    " "
   ]
  },
  {
   "cell_type": "code",
   "execution_count": 153,
   "metadata": {},
   "outputs": [
    {
     "name": "stdout",
     "output_type": "stream",
     "text": [
      "Studying VS Not Studying:\n",
      "\n",
      "Size: studying: 19 not studying: 21\n",
      "Mean: studying: 0.84 not studying: 1.38\n",
      "Median: studying: 1.0 not studying: 2.0\n",
      "Wilcoxon against μ=0: studying: p-value: 0.10199\n",
      "Wilcoxon against μ=0: not studying: p-value: 0.00176\n",
      "Mann Whitney: p-value: 0.17954\n",
      "Kruskal:  p-value: 0.35184\n",
      "\n",
      "Conclusions:\n",
      "\n",
      "The optimism score of the particapants who are studying is not significanlty different from the population mean(μ=0)!\n",
      "(p-value: 0.10199 > 0.05)\n",
      "On the other hand, the optimism score of the particapants who are not studying is significanlty different than the population mean.\n",
      "(p-value: 0.00176 < 0.05)\n",
      "According to our results, participants who are currenlty studying are actually the only group so far who prescibed more accuracy than optimism\n",
      "\n",
      "However, when we comparing the optimism score of the two groups, we see that there is no significant differenceas the p-value of both the Mann Whitney and the Kruskal test is greater than 0.05.\n"
     ]
    },
    {
     "data": {
      "image/png": "[encoded data removed]",
      "text/plain": [
       "<Figure size 432x288 with 1 Axes>"
      ]
     },
     "metadata": {
      "needs_background": "light"
     },
     "output_type": "display_data"
    }
   ],
   "source": [
    "# Studying VS Not studying\n",
    "\n",
    "studying = data['data/demographics/isStudying']\n",
    "print \"Studying VS Not Studying:\\n\"\n",
    "study = data.loc[studying == True]['data/survey/responses/1/0']\n",
    "notStudy = data.loc[studying == False]['data/survey/responses/1/0']\n",
    "\n",
    "# n, mean, median 1-sample wilcoxon\n",
    "print \"Size: studying:\", len(study), \"not studying:\", len(notStudy)\n",
    "mean_study = round(np.mean(study),2);\n",
    "mean_notStudy = round(np.mean(notStudy),2);\n",
    "print \"Mean: studying:\", mean_study, \"not studying:\", mean_notStudy\n",
    "median_study = np.median(study);\n",
    "median_notStudy = np.median(notStudy);\n",
    "print \"Median: studying:\", median_study, \"not studying:\", median_notStudy\n",
    "wilcoxon1_study = stats.wilcoxon(study-mu)\n",
    "wilcoxon1_notStudy = stats.wilcoxon(notStudy-mu)\n",
    "print \"Wilcoxon against μ=0: studying: p-value:\", round(wilcoxon1_study[1], 5)\n",
    "print \"Wilcoxon against μ=0: not studying: p-value:\", round(wilcoxon1_notStudy[1], 5)\n",
    "\n",
    "#Mann-Whitney\n",
    "mannwhit = stats.mannwhitneyu(study,notStudy)\n",
    "print \"Mann Whitney: p-value:\", round(mannwhit.pvalue, 5)\n",
    "\n",
    "# Kruskal\n",
    "studying_krusckal = stats.kruskal(study, notStudy)\n",
    "print \"Kruskal:  p-value:\", round(studying_krusckal.pvalue, 5)\n",
    "\n",
    "# Conclusions\n",
    "print \"\\nConclusions:\\n\"\n",
    "print \"The optimism score of the particapants who are studying is not significanlty different from the population mean(μ=0)!\"\n",
    "print \"(p-value:\", round(wilcoxon1_study[1], 5), \"> 0.05)\"\n",
    "print \"On the other hand, the optimism score of the particapants who are not studying is significanlty different than the population mean.\"\n",
    "print \"(p-value:\", round(wilcoxon1_notStudy[1], 5), \"< 0.05)\"\n",
    "print \"According to our results, participants who are currenlty studying are actually the only group so far who prescibed more accuracy than optimism\\n\"\n",
    "print \"However, when we comparing the optimism score of the two groups, we see that there is no significant difference\\\n",
    "as the p-value of both the Mann Whitney and the Kruskal test is greater than 0.05.\"\n",
    "\n",
    "# Plot boxplots (studying vs not studying vs all)\n",
    "IQR_study = np.percentile(study,75)-np.percentile(study,25)\n",
    "IQR_notStudy = np.percentile(notStudy,75)-np.percentile(notStudy,25)\n",
    "\n",
    "plt.bar([1,2,3],[median_study, median_notStudy, median],color=[\"blue\", \"red\", \"green\"], alpha=0.5,\n",
    "        yerr=[IQR_study,IQR_notStudy,IQR_all],align='center')\n",
    "plt.title('Optimism score by Studying Status')\n",
    "plt.xticks([1,2,3],[\"Studying\",\"Not studying\",\"All\"])\n",
    "plt.ylabel(\"Median +/- IQR\")\n",
    "plt.savefig('fig8.png', format='png', dpi=1000)\n",
    "plt.show()\n",
    "\n",
    "\n",
    "\n",
    "\n"
   ]
  },
  {
   "cell_type": "code",
   "execution_count": 154,
   "metadata": {},
   "outputs": [
    {
     "name": "stdout",
     "output_type": "stream",
     "text": [
      "Working VS Not working:\n",
      "\n",
      "size:working: 32 not working: 8\n",
      "Mean:working 1.19 not working: 0.88\n",
      "Median:working 2.0 not working: 1.0\n",
      "Wilcoxon against μ=0: working: p-value: 0.00257\n",
      "Wilcoxon against μ=0: not working: p-value: 0.16701\n",
      "Mann Whitney: p-value: 0.27765\n",
      "Kruskal: p-value: 0.54373\n",
      "\n",
      "Conclusions:\n",
      "\n",
      "The optimism score of the participants who are working is significanlty different from the population mean\n",
      "(p-value: 0.00257 < 0.05)\n",
      "On the other hand, the optimism score of the particapants who are not working is not significanlty different than the population mean.\n",
      "(p-value: 0.16701 > 0.05)\n",
      "This result suggests that participants who are currenlty not working are more pessimistic and prescibed more accuracy than optimism, although the sample size is very small (n=8)\n",
      "However, when we comparing the optimism score of the two groups, we see that there is no significant differenceas the p-value of both the Mann Whitney and the Kruskal test is greater than 0.05.\n"
     ]
    },
    {
     "name": "stderr",
     "output_type": "stream",
     "text": [
      "C:\\Python27\\lib\\site-packages\\scipy\\stats\\morestats.py:2388: UserWarning: Warning: sample size too small for normal approximation.\n",
      "  warnings.warn(\"Warning: sample size too small for normal approximation.\")\n"
     ]
    },
    {
     "data": {
      "image/png": "[encoded data removed]",
      "text/plain": [
       "<Figure size 432x288 with 1 Axes>"
      ]
     },
     "metadata": {
      "needs_background": "light"
     },
     "output_type": "display_data"
    }
   ],
   "source": [
    "# Working VS Not working\n",
    "\n",
    "working = data['data/demographics/isWorking']\n",
    "print \"Working VS Not working:\\n\"\n",
    "\n",
    "work = data.loc[working == True ]['data/survey/responses/1/0']\n",
    "notWork = data.loc[working == False]['data/survey/responses/1/0']\n",
    "\n",
    "# n, mean, median 1-sample wilcoxon\n",
    "print \"size:working:\", len(work), \"not working:\", len(notWork)\n",
    "mean_work = round(np.mean(work),2)\n",
    "mean_notWork = round(np.mean(notWork),2)\n",
    "print \"Mean:working\", mean_work, \"not working:\", mean_notWork\n",
    "median_work = np.median(work)\n",
    "median_notWork = np.median(notWork)\n",
    "print \"Median:working\", median_work, \"not working:\", median_notWork\n",
    "wilcoxon1_work = stats.wilcoxon(work-mu)\n",
    "wilcoxon1_notWork = stats.wilcoxon(notWork-mu)\n",
    "print \"Wilcoxon against μ=0: working: p-value:\", round(wilcoxon1_work[1], 5)\n",
    "print \"Wilcoxon against μ=0: not working: p-value:\", round(wilcoxon1_notWork[1], 5)\n",
    "\n",
    "#Mann-Whitney\n",
    "mannwhit = stats.mannwhitneyu(work,notWork)\n",
    "print \"Mann Whitney: p-value:\", round(mannwhit.pvalue, 5)\n",
    "\n",
    "# Kruskal \n",
    "working_kruskal = stats.kruskal(work, notWork)\n",
    "print \"Kruskal: p-value:\", round(working_kruskal.pvalue,5)\n",
    "\n",
    "# Conclusions\n",
    "print \"\\nConclusions:\\n\"\n",
    "print \"The optimism score of the participants who are working is significanlty different from the population mean\"\n",
    "print \"(p-value:\", round(wilcoxon1_work[1], 5), \"< 0.05)\"\n",
    "print \"On the other hand, the optimism score of the particapants who are not working is not significanlty different than the population mean.\"\n",
    "print \"(p-value:\", round(wilcoxon1_notWork[1], 5), \"> 0.05)\"\n",
    "print \"This result suggests that participants who are currenlty not working are more pessimistic and prescibed more accuracy than optimism,\\\n",
    " although the sample size is very small (n=8)\"\n",
    "print \"However, when we comparing the optimism score of the two groups, we see that there is no significant difference\\\n",
    "as the p-value of both the Mann Whitney and the Kruskal test is greater than 0.05.\"\n",
    "\n",
    "# Plot boxplots (working vs not working vs all)\n",
    "IQR_work = np.percentile(work,75)-np.percentile(work,25)\n",
    "IQR_notWork = np.percentile(notWork,75)-np.percentile(notWork,25)\n",
    "\n",
    "plt.bar([1,2,3],[median_work, median_notWork, median],color=[\"blue\", \"red\", \"green\"], alpha=0.5,\n",
    "        yerr=[IQR_work,IQR_notWork,IQR_all],align='center')\n",
    "plt.title('Optimism score by Working Status')\n",
    "plt.xticks([1,2,3],[\"Working\",\"Not working\",\"All\"])\n",
    "plt.ylabel(\"Median +/- IQR\")\n",
    "plt.savefig('plots/fig9.png', format='png', dpi=1000)\n",
    "plt.show()"
   ]
  },
  {
   "cell_type": "code",
   "execution_count": null,
   "metadata": {},
   "outputs": [],
   "source": []
  }
 ],
 "metadata": {
  "kernelspec": {
   "display_name": "Python 2",
   "language": "python",
   "name": "python2"
  },
  "language_info": {
   "codemirror_mode": {
    "name": "ipython",
    "version": 2
   },
   "file_extension": ".py",
   "mimetype": "text/x-python",
   "name": "python",
   "nbconvert_exporter": "python",
   "pygments_lexer": "ipython2",
   "version": "2.7.10"
  }
 },
 "nbformat": 4,
 "nbformat_minor": 2
}
